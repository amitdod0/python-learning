{
 "cells": [
  {
   "cell_type": "code",
   "execution_count": 2,
   "id": "d801b891",
   "metadata": {},
   "outputs": [
    {
     "name": "stdout",
     "output_type": "stream",
     "text": [
      "['pratick', 'kaustubh', 'fatima']\n"
     ]
    }
   ],
   "source": [
    "#list\n",
    "mansion = [\"pratick\", \"kaustubh\", \"fatima\"]\n",
    "print(mansion)"
   ]
  },
  {
   "cell_type": "code",
   "execution_count": 11,
   "id": "fd989b31",
   "metadata": {},
   "outputs": [
    {
     "name": "stdout",
     "output_type": "stream",
     "text": [
      "('AI', 'cyber security', 'cloud')\n"
     ]
    }
   ],
   "source": [
    "#tuple\n",
    "ITfields = (\"AI\", \"cyber security\", \"cloud\")\n",
    "print(ITfields[0:3])"
   ]
  },
  {
   "cell_type": "code",
   "execution_count": 16,
   "id": "1742fd9e",
   "metadata": {},
   "outputs": [
    {
     "name": "stdout",
     "output_type": "stream",
     "text": [
      "{'nottingham', 'derby', 'sheffield'}\n"
     ]
    }
   ],
   "source": [
    "#set \n",
    "cities = {\"sheffield\", \"derby\", \"nottingham\"}\n",
    "numbers = {1, 5, 7, 9, 3}\n",
    "random = {True, False, False} \n",
    "print(cities)"
   ]
  },
  {
   "cell_type": "code",
   "execution_count": 23,
   "id": "67e7cca2",
   "metadata": {},
   "outputs": [
    {
     "name": "stdout",
     "output_type": "stream",
     "text": [
      "itc\n"
     ]
    }
   ],
   "source": [
    "#dictonary\n",
    "stock = {\n",
    "    \n",
    "    \"name\":\"itc\",\n",
    "    \"market_cap\" :6546484515,\n",
    "    \"listeon\": \"nse\"\n",
    "    \n",
    "}\n",
    "print(stock[\"name\"])"
   ]
  },
  {
   "cell_type": "code",
   "execution_count": null,
   "id": "aba0732f",
   "metadata": {},
   "outputs": [],
   "source": []
  }
 ],
 "metadata": {
  "kernelspec": {
   "display_name": "Python 3 (ipykernel)",
   "language": "python",
   "name": "python3"
  },
  "language_info": {
   "codemirror_mode": {
    "name": "ipython",
    "version": 3
   },
   "file_extension": ".py",
   "mimetype": "text/x-python",
   "name": "python",
   "nbconvert_exporter": "python",
   "pygments_lexer": "ipython3",
   "version": "3.10.12"
  }
 },
 "nbformat": 4,
 "nbformat_minor": 5
}
